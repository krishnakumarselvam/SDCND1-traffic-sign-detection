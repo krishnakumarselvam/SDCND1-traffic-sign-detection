{
 "cells": [
  {
   "cell_type": "markdown",
   "metadata": {},
   "source": [
    "# Traffic sign classification"
   ]
  },
  {
   "cell_type": "markdown",
   "metadata": {},
   "source": [
    "---\n",
    "## Step 0: Load The Data"
   ]
  },
  {
   "cell_type": "code",
   "execution_count": 1,
   "metadata": {},
   "outputs": [],
   "source": [
    "# Load pickled data\n",
    "import pandas as pd\n",
    "import pickle\n",
    "\n",
    "# Load up the augmented training datasign_names = pd.read_csv('signnames.csv')\n",
    "training_file = 'augmented_train.p'\n",
    "validation_file='../data/valid.p'\n",
    "testing_file = '../data/test.p'\n",
    "\n",
    "with open(training_file, mode='rb') as f:\n",
    "    train = pickle.load(f)\n",
    "with open(validation_file, mode='rb') as f:\n",
    "    valid = pickle.load(f)\n",
    "with open(testing_file, mode='rb') as f:\n",
    "    test = pickle.load(f)\n",
    "    \n",
    "X_train, y_train = train['X_train'], train['y_train']\n",
    "X_valid, y_valid = valid['features'], valid['labels']\n",
    "X_test, y_test = test['features'], test['labels']\n",
    "sign_names = pd.read_csv('signnames.csv')"
   ]
  },
  {
   "cell_type": "code",
   "execution_count": 2,
   "metadata": {
    "collapsed": true
   },
   "outputs": [],
   "source": [
    "import pandas as pd\n",
    "import numpy as np\n",
    "import matplotlib.pyplot as plt\n"
   ]
  },
  {
   "cell_type": "code",
   "execution_count": 3,
   "metadata": {
    "collapsed": true
   },
   "outputs": [],
   "source": [
    "# Helper functions\n",
    "import tensorflow as tf\n",
    "from sklearn.utils import shuffle\n",
    "from tensorflow.contrib.layers import flatten\n",
    "\n",
    "# Arguments used for tf.truncated_normal, randomly defines variables for the weights and biases for each layer\n",
    "mu = 0\n",
    "sigma = 0.1\n",
    "\n",
    "def flatten_conv(x, input_shape, output_len):\n",
    "    if input_shape[0] * input_shape[1] * input_shape[2] - output_len:\n",
    "        raise Exception('Input and output shape mismatch while flattening')\n",
    "    return flatten(x)\n",
    "\n",
    "def fc_relu(x, input_len, output_len):\n",
    "    _fc = fc(x, input_len, output_len)\n",
    "    return  tf.nn.relu(_fc)\n",
    "\n",
    "def fc(x, input_len, output_len):\n",
    "    fc_W  = tf.Variable(tf.truncated_normal(shape=(input_len, output_len), mean = mu, stddev = sigma))\n",
    "    fc_b  = tf.Variable(tf.zeros(output_len))\n",
    "    _fc    = tf.matmul(x, fc_W) + fc_b\n",
    "    return _fc\n",
    "\n",
    "def max_pool(x, input_shape, output_shape, kernel_width=2, stride=2):\n",
    "    input_width = input_shape[0]\n",
    "    output_width = output_shape[0]\n",
    "    if input_width/2 == output_width:\n",
    "        return tf.nn.max_pool(x, ksize=[1, kernel_width, kernel_width, 1], strides=[1, stride, stride, 1], padding='VALID')\n",
    "    elif input_width == output_width:\n",
    "        return tf.nn.max_pool(x, ksize=[1, kernel_width, kernel_width, 1], strides=[1, 1, 1, 1], padding='SAME')\n",
    "\n",
    "def conv2d_relu(x, input_shape, output_shape, kernel_width = 5, strides=[1, 1, 1, 1]):\n",
    "    \"\"\"\n",
    "    Define a standard convolution layer with relu activation\n",
    "    \"\"\"\n",
    "    input_width = input_shape[0]\n",
    "    input_depth = input_shape[2]\n",
    "    output_width = output_shape[0]\n",
    "    kernel_depth = output_shape[2]\n",
    "    if output_width % 2:\n",
    "        raise Exception('Output shape is odd. Not supported at the moment')\n",
    "    elif  input_shape[0]!= input_shape[1] or output_shape[0]!= output_shape[1]:\n",
    "        raise Exception('Only square images supported')\n",
    "    if input_shape[0] == output_shape[0]:\n",
    "        padding = 'SAME'\n",
    "    elif input_shape[0] > output_shape[0]:\n",
    "        padding = 'VALID'\n",
    "        if input_width - output_width + 1 - kernel_width:\n",
    "            raise Exception(\n",
    "                'Kernel width of {} does not support {} - {} convolution'.format(\n",
    "                    kernel_width,input_width,output_width))\n",
    "    else:\n",
    "        raise Exception('Output size is larger than input')\n",
    "\n",
    "    conv_W = tf.Variable(tf.truncated_normal(shape=(kernel_width, kernel_width, input_depth, kernel_depth), mean = mu, stddev = sigma))\n",
    "    conv_b = tf.Variable(tf.zeros(kernel_depth))\n",
    "    conv = tf.nn.conv2d(x, conv_W, strides=strides, padding=padding) + conv_b\n",
    "    return tf.nn.relu(conv)"
   ]
  },
  {
   "cell_type": "markdown",
   "metadata": {},
   "source": [
    "# Model training"
   ]
  },
  {
   "cell_type": "markdown",
   "metadata": {},
   "source": [
    "### Model Architecture"
   ]
  },
  {
   "cell_type": "code",
   "execution_count": 4,
   "metadata": {
    "collapsed": true
   },
   "outputs": [],
   "source": [
    "EPOCHS = 25\n",
    "BATCH_SIZE = 128"
   ]
  },
  {
   "cell_type": "code",
   "execution_count": 5,
   "metadata": {
    "collapsed": true
   },
   "outputs": [],
   "source": [
    "def KNet(x):        \n",
    "    # Convolutional layer #1\n",
    "    h = conv2d_relu(x, input_shape=(32,32,3),output_shape=(32,32,5), kernel_width=3)\n",
    "    h = max_pool(h, input_shape = (32,32,5), output_shape=(32,32,5))\n",
    "    #h = tf.nn.dropout(h, 0.5)\n",
    "\n",
    "    # Convolutional layer #2\n",
    "    h = conv2d_relu(h, input_shape=(32,32,5),output_shape=(32,32,10), kernel_width=3)\n",
    "    h = max_pool(h, input_shape = (32,32,10), output_shape=(32,32,10))\n",
    "\n",
    "    # Convolutional layer #3\n",
    "    h = conv2d_relu(h, input_shape=(32,32,10),output_shape=(32,32,20), kernel_width=3)\n",
    "    h = max_pool(h, input_shape = (32,32,20), output_shape=(32,32,20))\n",
    "    h = tf.nn.dropout(h, 0.5)\n",
    "\n",
    "    # Convolutional layer #4\n",
    "    h = conv2d_relu(h, input_shape=(32,32,20), output_shape=(28,28,25), kernel_width=5)\n",
    "    h = max_pool(h, input_shape = (28,28,25), output_shape=(14,14,25))\n",
    "\n",
    "    # Convolutional layer #5\n",
    "    h = conv2d_relu(h, input_shape=(14,14,25), output_shape=(10,10,30), kernel_width=5)\n",
    "    h = max_pool(h, input_shape = (10,10,30), output_shape=(5,5,30))\n",
    "    #h = tf.nn.dropout(h, 0.5)\n",
    "\n",
    "    # Flatten convolution\n",
    "    h   = flatten_conv(h, input_shape=(5,5,30), output_len=750)\n",
    "    \n",
    "    # Fully connected layers\n",
    "    h = fc_relu(h, input_len=750, output_len=43)\n",
    "    h = fc(h, input_len=43, output_len=43)\n",
    "\n",
    "    return h"
   ]
  },
  {
   "cell_type": "markdown",
   "metadata": {},
   "source": [
    "### Train, Validate and Test the Model"
   ]
  },
  {
   "cell_type": "code",
   "execution_count": 6,
   "metadata": {
    "collapsed": true
   },
   "outputs": [],
   "source": [
    "x = tf.placeholder(tf.float32, (None, 32, 32, 3))\n",
    "y = tf.placeholder(tf.int32, (None))\n",
    "is_training = tf.placeholder(tf.bool, True)\n",
    "one_hot_y = tf.one_hot(y, 43)\n",
    "rate = tf.placeholder(tf.float32, [])\n",
    "logits = KNet(x)\n",
    "cross_entropy = tf.nn.softmax_cross_entropy_with_logits(labels=one_hot_y, logits=logits)\n",
    "loss_operation = tf.reduce_mean(cross_entropy)\n",
    "optimizer = tf.train.AdamOptimizer(learning_rate = rate)\n",
    "training_operation = optimizer.minimize(loss_operation)\n",
    "correct_prediction = tf.equal(tf.argmax(logits, 1), tf.argmax(one_hot_y, 1))\n",
    "accuracy_operation = tf.reduce_mean(tf.cast(correct_prediction, tf.float32))\n",
    "saver = tf.train.Saver()\n",
    "def evaluate(X_data, y_data):\n",
    "    num_examples = len(X_data)\n",
    "    total_accuracy = 0\n",
    "    sess = tf.get_default_session()\n",
    "    for offset in range(0, num_examples, BATCH_SIZE):\n",
    "        batch_x, batch_y = X_data[offset:offset+BATCH_SIZE], y_data[offset:offset+BATCH_SIZE]\n",
    "        accuracy = sess.run(accuracy_operation, feed_dict={x: batch_x, y: batch_y})\n",
    "        total_accuracy += (accuracy * len(batch_x))\n",
    "    return total_accuracy / num_examples"
   ]
  },
  {
   "cell_type": "code",
   "execution_count": 8,
   "metadata": {
    "scrolled": true
   },
   "outputs": [
    {
     "name": "stdout",
     "output_type": "stream",
     "text": [
      "Training...\n",
      "\n",
      "EPOCH 1 ...\n",
      "Training Accuracy = 0.705\n",
      "Validation Accuracy = 0.643\n",
      "\n",
      "EPOCH 2 ...\n",
      "Training Accuracy = 0.899\n",
      "Validation Accuracy = 0.862\n",
      "\n",
      "EPOCH 3 ...\n",
      "Training Accuracy = 0.938\n",
      "Validation Accuracy = 0.903\n",
      "\n",
      "EPOCH 4 ...\n",
      "Training Accuracy = 0.950\n",
      "Validation Accuracy = 0.916\n",
      "\n",
      "EPOCH 5 ...\n",
      "Training Accuracy = 0.974\n",
      "Validation Accuracy = 0.937\n",
      "\n",
      "EPOCH 6 ...\n",
      "Training Accuracy = 0.976\n",
      "Validation Accuracy = 0.951\n",
      "\n",
      "EPOCH 7 ...\n",
      "Training Accuracy = 0.988\n",
      "Validation Accuracy = 0.950\n",
      "\n",
      "EPOCH 8 ...\n",
      "Training Accuracy = 0.983\n",
      "Validation Accuracy = 0.942\n",
      "\n",
      "EPOCH 9 ...\n",
      "Training Accuracy = 0.985\n",
      "Validation Accuracy = 0.952\n",
      "\n",
      "EPOCH 10 ...\n",
      "Training Accuracy = 0.991\n",
      "Validation Accuracy = 0.960\n",
      "\n",
      "EPOCH 11 ...\n",
      "Training Accuracy = 0.989\n",
      "Validation Accuracy = 0.962\n",
      "\n",
      "EPOCH 12 ...\n",
      "Training Accuracy = 0.996\n",
      "Validation Accuracy = 0.970\n",
      "\n",
      "EPOCH 13 ...\n",
      "Training Accuracy = 0.995\n",
      "Validation Accuracy = 0.959\n",
      "\n",
      "EPOCH 14 ...\n",
      "Training Accuracy = 0.991\n",
      "Validation Accuracy = 0.952\n",
      "\n",
      "EPOCH 15 ...\n",
      "Training Accuracy = 0.996\n",
      "Validation Accuracy = 0.965\n",
      "\n",
      "EPOCH 16 ...\n",
      "Training Accuracy = 0.990\n",
      "Validation Accuracy = 0.965\n",
      "\n",
      "EPOCH 17 ...\n",
      "Training Accuracy = 0.995\n",
      "Validation Accuracy = 0.960\n",
      "\n",
      "EPOCH 18 ...\n",
      "Training Accuracy = 0.997\n",
      "Validation Accuracy = 0.969\n",
      "\n",
      "EPOCH 19 ...\n",
      "Training Accuracy = 0.995\n",
      "Validation Accuracy = 0.967\n",
      "\n",
      "EPOCH 20 ...\n",
      "Training Accuracy = 0.994\n",
      "Validation Accuracy = 0.969\n",
      "\n",
      "EPOCH 21 ...\n",
      "Training Accuracy = 0.995\n",
      "Validation Accuracy = 0.969\n",
      "\n",
      "EPOCH 22 ...\n",
      "Training Accuracy = 0.999\n",
      "Validation Accuracy = 0.966\n",
      "\n",
      "EPOCH 23 ...\n",
      "Training Accuracy = 0.999\n",
      "Validation Accuracy = 0.964\n",
      "\n",
      "EPOCH 24 ...\n",
      "Training Accuracy = 0.999\n",
      "Validation Accuracy = 0.968\n",
      "\n",
      "EPOCH 25 ...\n",
      "Training Accuracy = 0.999\n",
      "Validation Accuracy = 0.973\n",
      "\n"
     ]
    }
   ],
   "source": [
    "training_info = []\n",
    "learning_rate = 0.001\n",
    "with tf.Session() as sess:\n",
    "    sess.run(tf.global_variables_initializer())\n",
    "    num_examples = len(X_train)\n",
    "    print(\"Training...\")\n",
    "    print()\n",
    "    for i in range(EPOCHS):\n",
    "        X_train, y_train = shuffle(X_train, y_train)\n",
    "        for offset in range(0, num_examples, BATCH_SIZE):\n",
    "            end = offset + BATCH_SIZE\n",
    "            batch_x, batch_y = X_train[offset:end], y_train[offset:end]\n",
    "            sess.run(training_operation, feed_dict={x: batch_x, y: batch_y, rate:learning_rate})\n",
    "            \n",
    "        training_accuracy = evaluate(X_train, y_train)\n",
    "        validation_accuracy = evaluate(X_valid, y_valid)\n",
    "        print(\"EPOCH {} ...\".format(i+1))\n",
    "        print(\"Training Accuracy = {:.3f}\".format(training_accuracy))\n",
    "        print(\"Validation Accuracy = {:.3f}\".format(validation_accuracy))\n",
    "        print()\n",
    "        if i and i%10 == 0:\n",
    "            learning_rate = learning_rate/2 \n",
    "        training_info.append({\n",
    "            'training_accuracy': training_accuracy,\n",
    "            'validation_accuracy': validation_accuracy,\n",
    "            'learning_rate': learning_rate,\n",
    "            'epoch': i\n",
    "        })\n",
    "    saver.save(sess, './knet_nov11')"
   ]
  },
  {
   "cell_type": "code",
   "execution_count": 9,
   "metadata": {
    "collapsed": true
   },
   "outputs": [],
   "source": [
    "training_info_df = pd.DataFrame(training_info)"
   ]
  },
  {
   "cell_type": "code",
   "execution_count": 18,
   "metadata": {},
   "outputs": [
    {
     "data": {
      "text/html": [
       "<div>\n",
       "<table border=\"1\" class=\"dataframe\">\n",
       "  <thead>\n",
       "    <tr style=\"text-align: right;\">\n",
       "      <th></th>\n",
       "      <th>epoch</th>\n",
       "      <th>learning_rate</th>\n",
       "      <th>training_accuracy</th>\n",
       "      <th>validation_accuracy</th>\n",
       "    </tr>\n",
       "  </thead>\n",
       "  <tbody>\n",
       "    <tr>\n",
       "      <th>24</th>\n",
       "      <td>24</td>\n",
       "      <td>0.00025</td>\n",
       "      <td>0.998582</td>\n",
       "      <td>0.973469</td>\n",
       "    </tr>\n",
       "  </tbody>\n",
       "</table>\n",
       "</div>"
      ],
      "text/plain": [
       "    epoch  learning_rate  training_accuracy  validation_accuracy\n",
       "24     24        0.00025           0.998582             0.973469"
      ]
     },
     "execution_count": 18,
     "metadata": {},
     "output_type": "execute_result"
    }
   ],
   "source": [
    "# Final training and validation accuracy\n",
    "training_info_df[::-1].head(1)"
   ]
  },
  {
   "cell_type": "code",
   "execution_count": 19,
   "metadata": {},
   "outputs": [
    {
     "data": {
      "text/plain": [
       "<matplotlib.legend.Legend at 0x7fcba857f2b0>"
      ]
     },
     "execution_count": 19,
     "metadata": {},
     "output_type": "execute_result"
    },
    {
     "data": {
      "image/png": "[encoded data removed]",
      "text/plain": [
       "<matplotlib.figure.Figure at 0x7fcc29c0a908>"
      ]
     },
     "metadata": {},
     "output_type": "display_data"
    }
   ],
   "source": [
    "%matplotlib inline\n",
    "plt.plot(training_info_df['epoch'], training_info_df['training_accuracy'])\n",
    "plt.plot(training_info_df['epoch'], training_info_df['validation_accuracy'])\n",
    "plt.legend(['training accuracy', 'validation accuracy'])"
   ]
  },
  {
   "cell_type": "markdown",
   "metadata": {},
   "source": [
    "This model has a training accuracy of 99.9 % and a validation accuracy of 97.3 %"
   ]
  },
  {
   "cell_type": "code",
   "execution_count": null,
   "metadata": {
    "collapsed": true
   },
   "outputs": [],
   "source": []
  }
 ],
 "metadata": {
  "anaconda-cloud": {},
  "kernelspec": {
   "display_name": "Python 3",
   "language": "python",
   "name": "python3"
  },
  "language_info": {
   "codemirror_mode": {
    "name": "ipython",
    "version": 3
   },
   "file_extension": ".py",
   "mimetype": "text/x-python",
   "name": "python",
   "nbconvert_exporter": "python",
   "pygments_lexer": "ipython3",
   "version": "3.5.2"
  },
  "widgets": {
   "state": {},
   "version": "1.1.2"
  }
 },
 "nbformat": 4,
 "nbformat_minor": 1
}
